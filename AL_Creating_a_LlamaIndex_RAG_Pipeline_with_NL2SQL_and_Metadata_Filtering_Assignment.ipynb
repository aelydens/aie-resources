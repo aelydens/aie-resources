{
  "cells": [
    {
      "cell_type": "markdown",
      "metadata": {
        "id": "view-in-github",
        "colab_type": "text"
      },
      "source": [
        "<a href=\"https://colab.research.google.com/github/aelydens/aie-resources/blob/main/AL_Creating_a_LlamaIndex_RAG_Pipeline_with_NL2SQL_and_Metadata_Filtering_Assignment.ipynb\" target=\"_parent\"><img src=\"https://colab.research.google.com/assets/colab-badge.svg\" alt=\"Open In Colab\"/></a>"
      ]
    },
    {
      "cell_type": "markdown",
      "source": [
        "# Creating a LlamaIndex RAG Pipeline with NL2SQL and Metadata Filtering!\n",
        "\n",
        "We'll be putting together a system for querying both qualitative and quantitative data using LlamaIndex.\n",
        "\n",
        "The acitvities will be broken down as follows:\n",
        "\n",
        "- 🤝 Breakout Room #1\n",
        "  - Task 1: Load Dependencies\n",
        "  - Task 2: Set Env Variables and Set Up WandB Callback\n",
        "  - Task 3: Initialize Settings\n",
        "  - Task 4: Semantic RAG Pipeline with Metadata Filtering\n",
        "- 🤝 Breakout Room #2\n",
        "  - Task 1: Quantitative RAG Pipeline with NL2SQL Tooling\n",
        "  - Task 2: Combined RAG Pipeline\n",
        "\n",
        "Before we get started, however, a quick note on terminology.\n"
      ],
      "metadata": {
        "id": "x5TTdyIoo3i7"
      }
    },
    {
      "cell_type": "markdown",
      "metadata": {
        "id": "vcvGuykZSV_8"
      },
      "source": [
        "### A note on terminology:\n",
        "\n",
        "You'll notice that there are quite a few similarities between LangChain and LlamaIndex. LlamaIndex can largely be thought of as an extension to LangChain, in some ways - but they moved some of the language around. Let's spend a few moments disambiguating the language.\n",
        "\n",
        "- `QueryEngine` -> `LCEL Chain`:\n",
        "  -  `QueryEngine` is just LlamaIndex's way of indicating something is an LLM \"chain\" on top of a retrieval system\n",
        "- `OpenAIAgent` vs. `Agent`:\n",
        "  - The two agents have the same fundamental pattern: Decide which of a list of tools to use to answer a user's query.\n",
        "  - `OpenAIAgent` (LlamaIndex's primary agent) does not need to rely on an agent excecutor due to the fact that it is leveraging OpenAI's [functional api](https://openai.com/blog/function-calling-and-other-api-updates) which allows the agent to interface \"directly\" with the tools instead of operating through an intermediary application process.\n",
        "\n",
        "There is, however, a much large terminological difference when it comes to discussing data.\n",
        "\n",
        "##### Nodes vs. Documents\n",
        "\n",
        "As you're aware of from the previous weeks assignments, there's an idea of `documents` in NLP which refers to text objects that exist within a corpus of documents.\n",
        "\n",
        "LlamaIndex takes this a step further and reclassifies `documents` as `nodes`. Confusingly, it refers to the `Source Document` as simply `Documents`.\n",
        "\n",
        "The `Document` -> `node` structure is, almost exactly, equivalent to the `Source Document` -> `Document` structure found in LangChain - but the new terminology comes with some clarity about different structure-indices.\n",
        "\n",
        "We won't be leveraging those structured indicies today, but we will be leveraging a \"benefit\" of the `node` structure that exists as a default in LlamaIndex, which is the ability to quickly filter nodes based on their metadata.\n",
        "\n",
        "![image](https://i.imgur.com/B1QDjs5.png)"
      ]
    },
    {
      "cell_type": "markdown",
      "source": [
        "# 🤝 Breakout Room #1"
      ],
      "metadata": {
        "id": "dkLLmDFnOfOs"
      }
    },
    {
      "cell_type": "markdown",
      "metadata": {
        "id": "Msvju70DSV_8"
      },
      "source": [
        "## BOILERPLATE\n",
        "\n",
        "This is only relevant when running the code in a Jupyter Notebook."
      ]
    },
    {
      "cell_type": "code",
      "execution_count": 1,
      "metadata": {
        "id": "7VF57GcmSV_9"
      },
      "outputs": [],
      "source": [
        "import nest_asyncio\n",
        "\n",
        "nest_asyncio.apply()\n",
        "\n",
        "import logging\n",
        "import sys\n",
        "\n",
        "logging.basicConfig(stream=sys.stdout, level=logging.INFO)\n",
        "logging.getLogger().addHandler(logging.StreamHandler(stream=sys.stdout))"
      ]
    },
    {
      "cell_type": "markdown",
      "metadata": {
        "id": "6zQBPs6zSV_9"
      },
      "source": [
        "## Task 1: Load Dependencies"
      ]
    },
    {
      "cell_type": "markdown",
      "metadata": {
        "id": "WhEbxl3nSV_9"
      },
      "source": [
        "Let's grab our core `llama-index` library, as well as OpenAI's Python SDK.\n",
        "\n",
        "We'll be leveraging OpenAI's suite of APIs to power our RAG pipelines today.\n",
        "\n",
        "> NOTE: You can safely ignore any pip errors that occur during the running of these cells."
      ]
    },
    {
      "cell_type": "code",
      "execution_count": 2,
      "metadata": {
        "id": "b3oyvtl2SV_9",
        "colab": {
          "base_uri": "https://localhost:8080/"
        },
        "outputId": "26e981dd-3722-442b-ac9f-4baacd53f994"
      },
      "outputs": [
        {
          "output_type": "stream",
          "name": "stdout",
          "text": [
            "\u001b[2K     \u001b[90m━━━━━━━━━━━━━━━━━━━━━━━━━━━━━━━━━━━━━━━━\u001b[0m \u001b[32m227.4/227.4 kB\u001b[0m \u001b[31m2.0 MB/s\u001b[0m eta \u001b[36m0:00:00\u001b[0m\n",
            "\u001b[2K     \u001b[90m━━━━━━━━━━━━━━━━━━━━━━━━━━━━━━━━━━━━━━━━\u001b[0m \u001b[32m15.3/15.3 MB\u001b[0m \u001b[31m26.8 MB/s\u001b[0m eta \u001b[36m0:00:00\u001b[0m\n",
            "\u001b[2K     \u001b[90m━━━━━━━━━━━━━━━━━━━━━━━━━━━━━━━━━━━━━━━━\u001b[0m \u001b[32m2.0/2.0 MB\u001b[0m \u001b[31m32.1 MB/s\u001b[0m eta \u001b[36m0:00:00\u001b[0m\n",
            "\u001b[2K     \u001b[90m━━━━━━━━━━━━━━━━━━━━━━━━━━━━━━━━━━━━━━━━\u001b[0m \u001b[32m75.6/75.6 kB\u001b[0m \u001b[31m8.4 MB/s\u001b[0m eta \u001b[36m0:00:00\u001b[0m\n",
            "\u001b[2K     \u001b[90m━━━━━━━━━━━━━━━━━━━━━━━━━━━━━━━━━━━━━━━━\u001b[0m \u001b[32m77.8/77.8 kB\u001b[0m \u001b[31m9.3 MB/s\u001b[0m eta \u001b[36m0:00:00\u001b[0m\n",
            "\u001b[2K     \u001b[90m━━━━━━━━━━━━━━━━━━━━━━━━━━━━━━━━━━━━━━━━\u001b[0m \u001b[32m58.3/58.3 kB\u001b[0m \u001b[31m6.7 MB/s\u001b[0m eta \u001b[36m0:00:00\u001b[0m\n",
            "\u001b[2K     \u001b[90m━━━━━━━━━━━━━━━━━━━━━━━━━━━━━━━━━━━━━━━━\u001b[0m \u001b[32m108.0/108.0 kB\u001b[0m \u001b[31m12.7 MB/s\u001b[0m eta \u001b[36m0:00:00\u001b[0m\n",
            "\u001b[2K     \u001b[90m━━━━━━━━━━━━━━━━━━━━━━━━━━━━━━━━━━━━━━━━\u001b[0m \u001b[32m1.8/1.8 MB\u001b[0m \u001b[31m36.0 MB/s\u001b[0m eta \u001b[36m0:00:00\u001b[0m\n",
            "\u001b[2K     \u001b[90m━━━━━━━━━━━━━━━━━━━━━━━━━━━━━━━━━━━━━━━━\u001b[0m \u001b[32m4.4/4.4 MB\u001b[0m \u001b[31m36.7 MB/s\u001b[0m eta \u001b[36m0:00:00\u001b[0m\n",
            "\u001b[2K     \u001b[90m━━━━━━━━━━━━━━━━━━━━━━━━━━━━━━━━━━━━━━━━\u001b[0m \u001b[32m286.1/286.1 kB\u001b[0m \u001b[31m28.2 MB/s\u001b[0m eta \u001b[36m0:00:00\u001b[0m\n",
            "\u001b[2K     \u001b[90m━━━━━━━━━━━━━━━━━━━━━━━━━━━━━━━━━━━━━━━━\u001b[0m \u001b[32m525.5/525.5 kB\u001b[0m \u001b[31m33.5 MB/s\u001b[0m eta \u001b[36m0:00:00\u001b[0m\n",
            "\u001b[2K     \u001b[90m━━━━━━━━━━━━━━━━━━━━━━━━━━━━━━━━━━━━━━━━\u001b[0m \u001b[32m6.8/6.8 MB\u001b[0m \u001b[31m37.9 MB/s\u001b[0m eta \u001b[36m0:00:00\u001b[0m\n",
            "\u001b[2K     \u001b[90m━━━━━━━━━━━━━━━━━━━━━━━━━━━━━━━━━━━━━━━━\u001b[0m \u001b[32m30.6/30.6 MB\u001b[0m \u001b[31m12.6 MB/s\u001b[0m eta \u001b[36m0:00:00\u001b[0m\n",
            "\u001b[2K     \u001b[90m━━━━━━━━━━━━━━━━━━━━━━━━━━━━━━━━━━━━━━━━\u001b[0m \u001b[32m49.4/49.4 kB\u001b[0m \u001b[31m5.8 MB/s\u001b[0m eta \u001b[36m0:00:00\u001b[0m\n",
            "\u001b[2K     \u001b[90m━━━━━━━━━━━━━━━━━━━━━━━━━━━━━━━━━━━━━━━━\u001b[0m \u001b[32m2.4/2.4 MB\u001b[0m \u001b[31m28.3 MB/s\u001b[0m eta \u001b[36m0:00:00\u001b[0m\n",
            "\u001b[2K     \u001b[90m━━━━━━━━━━━━━━━━━━━━━━━━━━━━━━━━━━━━━━━━\u001b[0m \u001b[32m92.1/92.1 kB\u001b[0m \u001b[31m10.2 MB/s\u001b[0m eta \u001b[36m0:00:00\u001b[0m\n",
            "\u001b[2K     \u001b[90m━━━━━━━━━━━━━━━━━━━━━━━━━━━━━━━━━━━━━━━━\u001b[0m \u001b[32m60.8/60.8 kB\u001b[0m \u001b[31m6.7 MB/s\u001b[0m eta \u001b[36m0:00:00\u001b[0m\n",
            "\u001b[2K     \u001b[90m━━━━━━━━━━━━━━━━━━━━━━━━━━━━━━━━━━━━━━━━\u001b[0m \u001b[32m41.3/41.3 kB\u001b[0m \u001b[31m4.4 MB/s\u001b[0m eta \u001b[36m0:00:00\u001b[0m\n",
            "\u001b[2K     \u001b[90m━━━━━━━━━━━━━━━━━━━━━━━━━━━━━━━━━━━━━━━━\u001b[0m \u001b[32m5.4/5.4 MB\u001b[0m \u001b[31m21.6 MB/s\u001b[0m eta \u001b[36m0:00:00\u001b[0m\n",
            "\u001b[2K     \u001b[90m━━━━━━━━━━━━━━━━━━━━━━━━━━━━━━━━━━━━━━━━\u001b[0m \u001b[32m58.4/58.4 kB\u001b[0m \u001b[31m6.5 MB/s\u001b[0m eta \u001b[36m0:00:00\u001b[0m\n",
            "\u001b[2K     \u001b[90m━━━━━━━━━━━━━━━━━━━━━━━━━━━━━━━━━━━━━━━━\u001b[0m \u001b[32m105.7/105.7 kB\u001b[0m \u001b[31m3.0 MB/s\u001b[0m eta \u001b[36m0:00:00\u001b[0m\n",
            "\u001b[2K     \u001b[90m━━━━━━━━━━━━━━━━━━━━━━━━━━━━━━━━━━━━━━━━\u001b[0m \u001b[32m67.3/67.3 kB\u001b[0m \u001b[31m7.0 MB/s\u001b[0m eta \u001b[36m0:00:00\u001b[0m\n",
            "\u001b[?25h  Installing build dependencies ... \u001b[?25l\u001b[?25hdone\n",
            "  Getting requirements to build wheel ... \u001b[?25l\u001b[?25hdone\n",
            "  Preparing metadata (pyproject.toml) ... \u001b[?25l\u001b[?25hdone\n",
            "\u001b[2K     \u001b[90m━━━━━━━━━━━━━━━━━━━━━━━━━━━━━━━━━━━━━━━━\u001b[0m \u001b[32m698.9/698.9 kB\u001b[0m \u001b[31m32.8 MB/s\u001b[0m eta \u001b[36m0:00:00\u001b[0m\n",
            "\u001b[2K     \u001b[90m━━━━━━━━━━━━━━━━━━━━━━━━━━━━━━━━━━━━━━━━\u001b[0m \u001b[32m1.6/1.6 MB\u001b[0m \u001b[31m26.9 MB/s\u001b[0m eta \u001b[36m0:00:00\u001b[0m\n",
            "\u001b[2K     \u001b[90m━━━━━━━━━━━━━━━━━━━━━━━━━━━━━━━━━━━━━━━━\u001b[0m \u001b[32m67.6/67.6 kB\u001b[0m \u001b[31m7.8 MB/s\u001b[0m eta \u001b[36m0:00:00\u001b[0m\n",
            "\u001b[2K     \u001b[90m━━━━━━━━━━━━━━━━━━━━━━━━━━━━━━━━━━━━━━━━\u001b[0m \u001b[32m138.5/138.5 kB\u001b[0m \u001b[31m16.4 MB/s\u001b[0m eta \u001b[36m0:00:00\u001b[0m\n",
            "\u001b[2K     \u001b[90m━━━━━━━━━━━━━━━━━━━━━━━━━━━━━━━━━━━━━━━━\u001b[0m \u001b[32m46.0/46.0 kB\u001b[0m \u001b[31m5.0 MB/s\u001b[0m eta \u001b[36m0:00:00\u001b[0m\n",
            "\u001b[2K     \u001b[90m━━━━━━━━━━━━━━━━━━━━━━━━━━━━━━━━━━━━━━━━\u001b[0m \u001b[32m71.5/71.5 kB\u001b[0m \u001b[31m8.3 MB/s\u001b[0m eta \u001b[36m0:00:00\u001b[0m\n",
            "\u001b[2K     \u001b[90m━━━━━━━━━━━━━━━━━━━━━━━━━━━━━━━━━━━━━━━━\u001b[0m \u001b[32m50.8/50.8 kB\u001b[0m \u001b[31m5.6 MB/s\u001b[0m eta \u001b[36m0:00:00\u001b[0m\n",
            "\u001b[2K     \u001b[90m━━━━━━━━━━━━━━━━━━━━━━━━━━━━━━━━━━━━━━━━\u001b[0m \u001b[32m341.4/341.4 kB\u001b[0m \u001b[31m30.0 MB/s\u001b[0m eta \u001b[36m0:00:00\u001b[0m\n",
            "\u001b[2K     \u001b[90m━━━━━━━━━━━━━━━━━━━━━━━━━━━━━━━━━━━━━━━━\u001b[0m \u001b[32m3.4/3.4 MB\u001b[0m \u001b[31m30.5 MB/s\u001b[0m eta \u001b[36m0:00:00\u001b[0m\n",
            "\u001b[2K     \u001b[90m━━━━━━━━━━━━━━━━━━━━━━━━━━━━━━━━━━━━━━━━\u001b[0m \u001b[32m1.3/1.3 MB\u001b[0m \u001b[31m13.0 MB/s\u001b[0m eta \u001b[36m0:00:00\u001b[0m\n",
            "\u001b[2K     \u001b[90m━━━━━━━━━━━━━━━━━━━━━━━━━━━━━━━━━━━━━━━━\u001b[0m \u001b[32m130.2/130.2 kB\u001b[0m \u001b[31m14.7 MB/s\u001b[0m eta \u001b[36m0:00:00\u001b[0m\n",
            "\u001b[2K     \u001b[90m━━━━━━━━━━━━━━━━━━━━━━━━━━━━━━━━━━━━━━━━\u001b[0m \u001b[32m86.8/86.8 kB\u001b[0m \u001b[31m3.7 MB/s\u001b[0m eta \u001b[36m0:00:00\u001b[0m\n",
            "\u001b[?25h  Building wheel for pypika (pyproject.toml) ... \u001b[?25l\u001b[?25hdone\n"
          ]
        }
      ],
      "source": [
        "!pip install -qU llama-index openai"
      ]
    },
    {
      "cell_type": "markdown",
      "source": [
        "We'll be using [Weights and Biases](https://docs.wandb.ai/guides/prompts) (WandB) again for today's notebook!"
      ],
      "metadata": {
        "id": "6Jifl-qHO8MU"
      }
    },
    {
      "cell_type": "code",
      "source": [
        "!pip install -qU wandb llama-index-callbacks-wandb"
      ],
      "metadata": {
        "id": "9UcQpjG9Ovlk",
        "colab": {
          "base_uri": "https://localhost:8080/"
        },
        "outputId": "190cf904-fa70-4ca7-d2b7-db8f36219125"
      },
      "execution_count": 3,
      "outputs": [
        {
          "output_type": "stream",
          "name": "stdout",
          "text": [
            "\u001b[2K     \u001b[90m━━━━━━━━━━━━━━━━━━━━━━━━━━━━━━━━━━━━━━━━\u001b[0m \u001b[32m2.2/2.2 MB\u001b[0m \u001b[31m8.8 MB/s\u001b[0m eta \u001b[36m0:00:00\u001b[0m\n",
            "\u001b[2K     \u001b[90m━━━━━━━━━━━━━━━━━━━━━━━━━━━━━━━━━━━━━━━━\u001b[0m \u001b[32m195.4/195.4 kB\u001b[0m \u001b[31m17.3 MB/s\u001b[0m eta \u001b[36m0:00:00\u001b[0m\n",
            "\u001b[2K     \u001b[90m━━━━━━━━━━━━━━━━━━━━━━━━━━━━━━━━━━━━━━━━\u001b[0m \u001b[32m258.8/258.8 kB\u001b[0m \u001b[31m21.6 MB/s\u001b[0m eta \u001b[36m0:00:00\u001b[0m\n",
            "\u001b[2K     \u001b[90m━━━━━━━━━━━━━━━━━━━━━━━━━━━━━━━━━━━━━━━━\u001b[0m \u001b[32m62.7/62.7 kB\u001b[0m \u001b[31m5.5 MB/s\u001b[0m eta \u001b[36m0:00:00\u001b[0m\n",
            "\u001b[?25h"
          ]
        }
      ]
    },
    {
      "cell_type": "markdown",
      "source": [
        "We'll be collecting our semantic data from Wikipedia - and so will need the [Wikipedia Reader](https://github.com/run-llama/llama_index/tree/main/llama-index-integrations/readers/llama-index-readers-wikipedia)!"
      ],
      "metadata": {
        "id": "uqTXRTrLPatl"
      }
    },
    {
      "cell_type": "code",
      "execution_count": 4,
      "metadata": {
        "id": "f9kXf7pPSV_-",
        "colab": {
          "base_uri": "https://localhost:8080/"
        },
        "outputId": "a286acf9-eb44-4f9a-d6c8-821768ce337c"
      },
      "outputs": [
        {
          "output_type": "stream",
          "name": "stdout",
          "text": [
            "  Preparing metadata (setup.py) ... \u001b[?25l\u001b[?25hdone\n",
            "  Building wheel for wikipedia (setup.py) ... \u001b[?25l\u001b[?25hdone\n"
          ]
        }
      ],
      "source": [
        "!pip install -qU wikipedia llama-index-readers-wikipedia"
      ]
    },
    {
      "cell_type": "markdown",
      "source": [
        "Our vector database today will be powered by [ChromaDB](https://github.com/chroma-core/chroma) and so we'll need that package as well!"
      ],
      "metadata": {
        "id": "Qq_rWHZEPrCO"
      }
    },
    {
      "cell_type": "code",
      "source": [
        "!pip install -qU chromadb llama-index-vector-stores-chroma"
      ],
      "metadata": {
        "id": "iMCA8HFGEPF_"
      },
      "execution_count": 5,
      "outputs": []
    },
    {
      "cell_type": "markdown",
      "source": [
        "Finally, we'll need to grab a few dependencies related to our quantitative data!"
      ],
      "metadata": {
        "id": "wNHDqna1P1NQ"
      }
    },
    {
      "cell_type": "code",
      "execution_count": 6,
      "metadata": {
        "id": "BrT8a3c0SV__",
        "colab": {
          "base_uri": "https://localhost:8080/"
        },
        "outputId": "443b42ca-38c8-4359-e90d-b210c0982541"
      },
      "outputs": [
        {
          "output_type": "stream",
          "name": "stdout",
          "text": [
            "\u001b[2K     \u001b[90m━━━━━━━━━━━━━━━━━━━━━━━━━━━━━━━━━━━━━━━━\u001b[0m \u001b[32m13.0/13.0 MB\u001b[0m \u001b[31m45.9 MB/s\u001b[0m eta \u001b[36m0:00:00\u001b[0m\n",
            "\u001b[2K     \u001b[90m━━━━━━━━━━━━━━━━━━━━━━━━━━━━━━━━━━━━━━━━\u001b[0m \u001b[32m345.4/345.4 kB\u001b[0m \u001b[31m33.5 MB/s\u001b[0m eta \u001b[36m0:00:00\u001b[0m\n",
            "\u001b[?25h\u001b[31mERROR: pip's dependency resolver does not currently take into account all the packages that are installed. This behaviour is the source of the following dependency conflicts.\n",
            "bigframes 0.22.0 requires pandas<2.1.4,>=1.5.0, but you have pandas 2.2.1 which is incompatible.\n",
            "google-colab 1.0.0 requires pandas==1.5.3, but you have pandas 2.2.1 which is incompatible.\u001b[0m\u001b[31m\n",
            "\u001b[0m"
          ]
        }
      ],
      "source": [
        "!pip install -q -U sqlalchemy pandas"
      ]
    },
    {
      "cell_type": "markdown",
      "source": [
        "We'll grab some additional miscellaneous dependencies here."
      ],
      "metadata": {
        "id": "WuZM6UjePVBk"
      }
    },
    {
      "cell_type": "code",
      "execution_count": 7,
      "metadata": {
        "id": "vqPJv3jUSV_-",
        "colab": {
          "base_uri": "https://localhost:8080/"
        },
        "outputId": "eaac0df8-f54c-4714-bb40-5fec51e91ee2"
      },
      "outputs": [
        {
          "output_type": "stream",
          "name": "stdout",
          "text": [
            "\u001b[2K     \u001b[90m━━━━━━━━━━━━━━━━━━━━━━━━━━━━━━━━━━━━━━━━\u001b[0m \u001b[32m1.7/1.7 MB\u001b[0m \u001b[31m6.9 MB/s\u001b[0m eta \u001b[36m0:00:00\u001b[0m\n",
            "\u001b[2K     \u001b[90m━━━━━━━━━━━━━━━━━━━━━━━━━━━━━━━━━━━━━━━━\u001b[0m \u001b[32m86.0/86.0 kB\u001b[0m \u001b[31m9.1 MB/s\u001b[0m eta \u001b[36m0:00:00\u001b[0m\n",
            "\u001b[?25h  Preparing metadata (setup.py) ... \u001b[?25l\u001b[?25hdone\n",
            "\u001b[2K     \u001b[90m━━━━━━━━━━━━━━━━━━━━━━━━━━━━━━━━━━━━━━━━\u001b[0m \u001b[32m3.1/3.1 MB\u001b[0m \u001b[31m32.7 MB/s\u001b[0m eta \u001b[36m0:00:00\u001b[0m\n",
            "\u001b[?25h  Building wheel for sentence-transformers (setup.py) ... \u001b[?25l\u001b[?25hdone\n"
          ]
        }
      ],
      "source": [
        "!pip install -U -q tiktoken==0.4.0 sentence-transformers==2.2.2 pydantic==1.10.11"
      ]
    },
    {
      "cell_type": "markdown",
      "source": [
        "## Task 2: Set Env Variables and Set Up WandB Callback\n",
        "\n",
        "Let's set our API keys for both OpenAI and WandB!"
      ],
      "metadata": {
        "id": "ibtguieHP6n1"
      }
    },
    {
      "cell_type": "code",
      "execution_count": 8,
      "metadata": {
        "id": "7IBgMTPTSV_9",
        "colab": {
          "base_uri": "https://localhost:8080/"
        },
        "outputId": "15ae324d-c0ac-4e1d-a322-45b67b9ff63b"
      },
      "outputs": [
        {
          "name": "stdout",
          "output_type": "stream",
          "text": [
            "OpenAI API Key: ··········\n"
          ]
        }
      ],
      "source": [
        "import os\n",
        "import getpass\n",
        "\n",
        "os.environ[\"OPENAI_API_KEY\"] = getpass.getpass(\"OpenAI API Key: \")"
      ]
    },
    {
      "cell_type": "code",
      "execution_count": 9,
      "metadata": {
        "id": "4OHSwkDySV_-",
        "colab": {
          "base_uri": "https://localhost:8080/"
        },
        "outputId": "4f1c9f81-6e44-4240-9c93-c709650a7141"
      },
      "outputs": [
        {
          "name": "stdout",
          "output_type": "stream",
          "text": [
            "WandB API Key: ··········\n"
          ]
        }
      ],
      "source": [
        "os.environ[\"WANDB_API_KEY\"] = getpass.getpass(\"WandB API Key: \")"
      ]
    },
    {
      "cell_type": "markdown",
      "source": [
        "We'll also need to set a callback handler for WandB to ensure smooth operation of our traces!"
      ],
      "metadata": {
        "id": "Ut8E447rQBjY"
      }
    },
    {
      "cell_type": "code",
      "execution_count": 11,
      "metadata": {
        "id": "MoV2JINuSV_-"
      },
      "outputs": [],
      "source": [
        "import llama_index\n",
        "from llama_index.core import set_global_handler\n",
        "\n",
        "set_global_handler(\"wandb\", run_args={\"project\": \"aie1-llama-index-demo\"})\n",
        "wandb_callback = llama_index.core.global_handler"
      ]
    },
    {
      "cell_type": "markdown",
      "metadata": {
        "id": "UQwigweOSV_-"
      },
      "source": [
        "### Task 3: Settings\n",
        "\n",
        "LlamaIndex lets us set global settings which we can use to influence the default behaviour of our components.\n",
        "\n",
        "Let's set our LLM and our Embedding Model!"
      ]
    },
    {
      "cell_type": "code",
      "execution_count": 12,
      "metadata": {
        "id": "6KOy21KPSV_-"
      },
      "outputs": [],
      "source": [
        "from llama_index.llms.openai import OpenAI\n",
        "from llama_index.embeddings.openai import OpenAIEmbedding\n",
        "from llama_index.core import Settings\n",
        "\n",
        "Settings.llm = OpenAI(model=\"gpt-3.5-turbo\")\n",
        "Settings.embed_model = OpenAIEmbedding(model=\"text-embedding-3-small\")"
      ]
    },
    {
      "cell_type": "markdown",
      "metadata": {
        "id": "eiOdw7EQSV_-"
      },
      "source": [
        "## Task 4: Semantic RAG Pipeline with Metadata Filtering\n",
        "\n",
        "Now we can get to work creating our semantic `QueryEngine`!\n",
        "\n",
        "We'll start, as we normally do, by grabbing some data.\n",
        "\n",
        "> NOTE: Remember that a query engine is just a different word for a chain!"
      ]
    },
    {
      "cell_type": "markdown",
      "metadata": {
        "id": "iDEtQQWnSV_-"
      },
      "source": [
        "### Data Collection\n",
        "\n",
        "We're just going to be pulling information straight from Wikipedia using the built in `WikipediaReader`.\n",
        "\n",
        "> NOTE: Setting `auto_suggest=False` ensures we run into fewer auto-correct based errors."
      ]
    },
    {
      "cell_type": "code",
      "execution_count": 13,
      "metadata": {
        "id": "OrzzrnYMSV_-"
      },
      "outputs": [],
      "source": [
        "from llama_index.readers.wikipedia import WikipediaReader\n",
        "\n",
        "movie_list = [\"Dune (2021 film)\", \"Dune: Part Two\"]\n",
        "\n",
        "wiki_docs = WikipediaReader().load_data(pages=movie_list, auto_suggest=False)"
      ]
    },
    {
      "cell_type": "markdown",
      "metadata": {
        "id": "-6FRQ4hfSV_-"
      },
      "source": [
        "### Initializing our VectorStoreIndex with ChromaDB\n",
        "\n",
        "ChromaDB is a locally hostable and open-source vector database solution.\n",
        "\n",
        "It offers powerful features like metadata filtering out of the box, and will suit our needs well today!\n",
        "\n",
        "We'll start by creating our local `EphemeralClient()` (in-memory and not meant for production use-cases) and our collection.\n",
        "\n",
        "Then we'll create our `VectorStore` and `StorageContext` which will allow us to create an empty `VectorStoreIndex` which we will be able to add nodes to later!"
      ]
    },
    {
      "cell_type": "code",
      "source": [
        "from llama_index.vector_stores.chroma import ChromaVectorStore\n",
        "import chromadb\n",
        "\n",
        "chroma_client = chromadb.EphemeralClient()\n",
        "chroma_collection = chroma_client.create_collection(\"dune-v0\")"
      ],
      "metadata": {
        "id": "b1ut96aSEVwY"
      },
      "execution_count": 14,
      "outputs": []
    },
    {
      "cell_type": "code",
      "execution_count": 15,
      "metadata": {
        "id": "lZ5xilm1SV_-",
        "outputId": "0b89b59a-fdbb-4038-9d96-7b6d4b8ee414",
        "colab": {
          "base_uri": "https://localhost:8080/"
        }
      },
      "outputs": [
        {
          "output_type": "stream",
          "name": "stderr",
          "text": [
            "\u001b[34m\u001b[1mwandb\u001b[0m: Logged trace tree to W&B.\n"
          ]
        }
      ],
      "source": [
        "from llama_index.core import VectorStoreIndex\n",
        "from llama_index.core import StorageContext\n",
        "\n",
        "vector_store = ChromaVectorStore(chroma_collection=chroma_collection)\n",
        "storage_context = StorageContext.from_defaults(vector_store=vector_store)\n",
        "index = VectorStoreIndex.from_documents([], storage_context=storage_context)"
      ]
    },
    {
      "cell_type": "markdown",
      "metadata": {
        "id": "6qtzVDelSV_-"
      },
      "source": [
        "### Node Construction\n",
        "\n",
        "Now we will loop through our documents and metadata and construct nodes.\n",
        "\n",
        "We'll make sure to explicitly associate our nodes with their respective movie so we can filter by the movie title in the upcoming cells.\n",
        "\n",
        "> NOTE: You can safely ignore any WARNINGs in the following cell."
      ]
    },
    {
      "cell_type": "code",
      "execution_count": 16,
      "metadata": {
        "id": "LP4INgSGSV_-",
        "colab": {
          "base_uri": "https://localhost:8080/"
        },
        "outputId": "200894f0-1ac9-42f5-fdf7-64c2a8dc975a"
      },
      "outputs": [
        {
          "output_type": "stream",
          "name": "stderr",
          "text": [
            "WARNING:chromadb.segment.impl.metadata.sqlite:Insert of existing embedding ID: 74eea87f-6c2e-49ec-8984-2367465e1e87\n"
          ]
        },
        {
          "output_type": "stream",
          "name": "stdout",
          "text": [
            "Insert of existing embedding ID: 74eea87f-6c2e-49ec-8984-2367465e1e87\n"
          ]
        },
        {
          "output_type": "stream",
          "name": "stderr",
          "text": [
            "WARNING:chromadb.segment.impl.metadata.sqlite:Insert of existing embedding ID: a5decb1e-801d-4465-ab67-fbd7de3bbe5d\n"
          ]
        },
        {
          "output_type": "stream",
          "name": "stdout",
          "text": [
            "Insert of existing embedding ID: a5decb1e-801d-4465-ab67-fbd7de3bbe5d\n"
          ]
        },
        {
          "output_type": "stream",
          "name": "stderr",
          "text": [
            "WARNING:chromadb.segment.impl.metadata.sqlite:Insert of existing embedding ID: fc3b1bd7-fbca-49ff-92d3-c8d6a25fcf21\n"
          ]
        },
        {
          "output_type": "stream",
          "name": "stdout",
          "text": [
            "Insert of existing embedding ID: fc3b1bd7-fbca-49ff-92d3-c8d6a25fcf21\n"
          ]
        },
        {
          "output_type": "stream",
          "name": "stderr",
          "text": [
            "WARNING:chromadb.segment.impl.metadata.sqlite:Insert of existing embedding ID: 9e9f98a2-5c85-4bf6-8ea6-1cc778309b18\n"
          ]
        },
        {
          "output_type": "stream",
          "name": "stdout",
          "text": [
            "Insert of existing embedding ID: 9e9f98a2-5c85-4bf6-8ea6-1cc778309b18\n"
          ]
        },
        {
          "output_type": "stream",
          "name": "stderr",
          "text": [
            "WARNING:chromadb.segment.impl.metadata.sqlite:Insert of existing embedding ID: 10557232-1729-4ea2-ba77-7948d03c8b82\n"
          ]
        },
        {
          "output_type": "stream",
          "name": "stdout",
          "text": [
            "Insert of existing embedding ID: 10557232-1729-4ea2-ba77-7948d03c8b82\n"
          ]
        },
        {
          "output_type": "stream",
          "name": "stderr",
          "text": [
            "WARNING:chromadb.segment.impl.metadata.sqlite:Insert of existing embedding ID: 52fb227d-453f-43f1-87d7-6bac3128151c\n"
          ]
        },
        {
          "output_type": "stream",
          "name": "stdout",
          "text": [
            "Insert of existing embedding ID: 52fb227d-453f-43f1-87d7-6bac3128151c\n"
          ]
        },
        {
          "output_type": "stream",
          "name": "stderr",
          "text": [
            "WARNING:chromadb.segment.impl.metadata.sqlite:Insert of existing embedding ID: 008bd3dc-663c-4821-8643-e5f039954dee\n"
          ]
        },
        {
          "output_type": "stream",
          "name": "stdout",
          "text": [
            "Insert of existing embedding ID: 008bd3dc-663c-4821-8643-e5f039954dee\n"
          ]
        },
        {
          "output_type": "stream",
          "name": "stderr",
          "text": [
            "WARNING:chromadb.segment.impl.metadata.sqlite:Insert of existing embedding ID: ef994f45-a1ef-4f53-85d0-af55a05aaefe\n"
          ]
        },
        {
          "output_type": "stream",
          "name": "stdout",
          "text": [
            "Insert of existing embedding ID: ef994f45-a1ef-4f53-85d0-af55a05aaefe\n"
          ]
        },
        {
          "output_type": "stream",
          "name": "stderr",
          "text": [
            "WARNING:chromadb.segment.impl.metadata.sqlite:Insert of existing embedding ID: 7a1de82c-5a25-449a-93ce-66f5fee4db3b\n"
          ]
        },
        {
          "output_type": "stream",
          "name": "stdout",
          "text": [
            "Insert of existing embedding ID: 7a1de82c-5a25-449a-93ce-66f5fee4db3b\n"
          ]
        },
        {
          "output_type": "stream",
          "name": "stderr",
          "text": [
            "WARNING:chromadb.segment.impl.metadata.sqlite:Insert of existing embedding ID: c0fca52c-800e-4796-a447-6367ae25027f\n"
          ]
        },
        {
          "output_type": "stream",
          "name": "stdout",
          "text": [
            "Insert of existing embedding ID: c0fca52c-800e-4796-a447-6367ae25027f\n"
          ]
        },
        {
          "output_type": "stream",
          "name": "stderr",
          "text": [
            "WARNING:chromadb.segment.impl.metadata.sqlite:Insert of existing embedding ID: 6fe85332-7fa0-4d89-af7f-5ac9efd8381e\n"
          ]
        },
        {
          "output_type": "stream",
          "name": "stdout",
          "text": [
            "Insert of existing embedding ID: 6fe85332-7fa0-4d89-af7f-5ac9efd8381e\n"
          ]
        },
        {
          "output_type": "stream",
          "name": "stderr",
          "text": [
            "WARNING:chromadb.segment.impl.metadata.sqlite:Insert of existing embedding ID: f30b6196-0500-40b9-9132-1d2d2920b2a0\n"
          ]
        },
        {
          "output_type": "stream",
          "name": "stdout",
          "text": [
            "Insert of existing embedding ID: f30b6196-0500-40b9-9132-1d2d2920b2a0\n"
          ]
        },
        {
          "output_type": "stream",
          "name": "stderr",
          "text": [
            "WARNING:chromadb.segment.impl.metadata.sqlite:Insert of existing embedding ID: 8128d0b7-aeab-4b6b-b32a-eb0ab035af29\n"
          ]
        },
        {
          "output_type": "stream",
          "name": "stdout",
          "text": [
            "Insert of existing embedding ID: 8128d0b7-aeab-4b6b-b32a-eb0ab035af29\n"
          ]
        },
        {
          "output_type": "stream",
          "name": "stderr",
          "text": [
            "WARNING:chromadb.segment.impl.metadata.sqlite:Insert of existing embedding ID: c27178db-4f37-48d0-bb42-25ec5e61e0fc\n"
          ]
        },
        {
          "output_type": "stream",
          "name": "stdout",
          "text": [
            "Insert of existing embedding ID: c27178db-4f37-48d0-bb42-25ec5e61e0fc\n"
          ]
        },
        {
          "output_type": "stream",
          "name": "stderr",
          "text": [
            "WARNING:chromadb.segment.impl.metadata.sqlite:Insert of existing embedding ID: ba9debfb-fe43-4c93-8593-0a485a6f5f74\n"
          ]
        },
        {
          "output_type": "stream",
          "name": "stdout",
          "text": [
            "Insert of existing embedding ID: ba9debfb-fe43-4c93-8593-0a485a6f5f74\n"
          ]
        },
        {
          "output_type": "stream",
          "name": "stderr",
          "text": [
            "WARNING:chromadb.segment.impl.metadata.sqlite:Insert of existing embedding ID: 4a03653c-4597-4796-a237-764230ca7db3\n"
          ]
        },
        {
          "output_type": "stream",
          "name": "stdout",
          "text": [
            "Insert of existing embedding ID: 4a03653c-4597-4796-a237-764230ca7db3\n"
          ]
        },
        {
          "output_type": "stream",
          "name": "stderr",
          "text": [
            "WARNING:chromadb.segment.impl.metadata.sqlite:Insert of existing embedding ID: 6ec8e5c7-104f-44b0-ba94-62b8a86f4e5d\n"
          ]
        },
        {
          "output_type": "stream",
          "name": "stdout",
          "text": [
            "Insert of existing embedding ID: 6ec8e5c7-104f-44b0-ba94-62b8a86f4e5d\n"
          ]
        },
        {
          "output_type": "stream",
          "name": "stderr",
          "text": [
            "WARNING:chromadb.segment.impl.metadata.sqlite:Insert of existing embedding ID: b4c2f9f0-f636-4759-b292-a6d9e8197c5d\n"
          ]
        },
        {
          "output_type": "stream",
          "name": "stdout",
          "text": [
            "Insert of existing embedding ID: b4c2f9f0-f636-4759-b292-a6d9e8197c5d\n"
          ]
        },
        {
          "output_type": "stream",
          "name": "stderr",
          "text": [
            "WARNING:chromadb.segment.impl.metadata.sqlite:Insert of existing embedding ID: 3477ecaf-c86b-4de7-8a6d-2a520730e7ce\n"
          ]
        },
        {
          "output_type": "stream",
          "name": "stdout",
          "text": [
            "Insert of existing embedding ID: 3477ecaf-c86b-4de7-8a6d-2a520730e7ce\n"
          ]
        },
        {
          "output_type": "stream",
          "name": "stderr",
          "text": [
            "WARNING:chromadb.segment.impl.metadata.sqlite:Insert of existing embedding ID: 82e444ea-65b8-49a4-92ef-673d1d0487e8\n"
          ]
        },
        {
          "output_type": "stream",
          "name": "stdout",
          "text": [
            "Insert of existing embedding ID: 82e444ea-65b8-49a4-92ef-673d1d0487e8\n"
          ]
        },
        {
          "output_type": "stream",
          "name": "stderr",
          "text": [
            "WARNING:chromadb.segment.impl.metadata.sqlite:Insert of existing embedding ID: aa7b6f08-b0c8-4c01-96e4-4f26aa1bf803\n"
          ]
        },
        {
          "output_type": "stream",
          "name": "stdout",
          "text": [
            "Insert of existing embedding ID: aa7b6f08-b0c8-4c01-96e4-4f26aa1bf803\n"
          ]
        },
        {
          "output_type": "stream",
          "name": "stderr",
          "text": [
            "WARNING:chromadb.segment.impl.vector.local_hnsw:Add of existing embedding ID: 74eea87f-6c2e-49ec-8984-2367465e1e87\n"
          ]
        },
        {
          "output_type": "stream",
          "name": "stdout",
          "text": [
            "Add of existing embedding ID: 74eea87f-6c2e-49ec-8984-2367465e1e87\n"
          ]
        },
        {
          "output_type": "stream",
          "name": "stderr",
          "text": [
            "WARNING:chromadb.segment.impl.vector.local_hnsw:Add of existing embedding ID: a5decb1e-801d-4465-ab67-fbd7de3bbe5d\n"
          ]
        },
        {
          "output_type": "stream",
          "name": "stdout",
          "text": [
            "Add of existing embedding ID: a5decb1e-801d-4465-ab67-fbd7de3bbe5d\n"
          ]
        },
        {
          "output_type": "stream",
          "name": "stderr",
          "text": [
            "WARNING:chromadb.segment.impl.vector.local_hnsw:Add of existing embedding ID: fc3b1bd7-fbca-49ff-92d3-c8d6a25fcf21\n"
          ]
        },
        {
          "output_type": "stream",
          "name": "stdout",
          "text": [
            "Add of existing embedding ID: fc3b1bd7-fbca-49ff-92d3-c8d6a25fcf21\n"
          ]
        },
        {
          "output_type": "stream",
          "name": "stderr",
          "text": [
            "WARNING:chromadb.segment.impl.vector.local_hnsw:Add of existing embedding ID: 9e9f98a2-5c85-4bf6-8ea6-1cc778309b18\n"
          ]
        },
        {
          "output_type": "stream",
          "name": "stdout",
          "text": [
            "Add of existing embedding ID: 9e9f98a2-5c85-4bf6-8ea6-1cc778309b18\n"
          ]
        },
        {
          "output_type": "stream",
          "name": "stderr",
          "text": [
            "WARNING:chromadb.segment.impl.vector.local_hnsw:Add of existing embedding ID: 10557232-1729-4ea2-ba77-7948d03c8b82\n"
          ]
        },
        {
          "output_type": "stream",
          "name": "stdout",
          "text": [
            "Add of existing embedding ID: 10557232-1729-4ea2-ba77-7948d03c8b82\n"
          ]
        },
        {
          "output_type": "stream",
          "name": "stderr",
          "text": [
            "WARNING:chromadb.segment.impl.vector.local_hnsw:Add of existing embedding ID: 52fb227d-453f-43f1-87d7-6bac3128151c\n"
          ]
        },
        {
          "output_type": "stream",
          "name": "stdout",
          "text": [
            "Add of existing embedding ID: 52fb227d-453f-43f1-87d7-6bac3128151c\n"
          ]
        },
        {
          "output_type": "stream",
          "name": "stderr",
          "text": [
            "WARNING:chromadb.segment.impl.vector.local_hnsw:Add of existing embedding ID: 008bd3dc-663c-4821-8643-e5f039954dee\n"
          ]
        },
        {
          "output_type": "stream",
          "name": "stdout",
          "text": [
            "Add of existing embedding ID: 008bd3dc-663c-4821-8643-e5f039954dee\n"
          ]
        },
        {
          "output_type": "stream",
          "name": "stderr",
          "text": [
            "WARNING:chromadb.segment.impl.vector.local_hnsw:Add of existing embedding ID: ef994f45-a1ef-4f53-85d0-af55a05aaefe\n"
          ]
        },
        {
          "output_type": "stream",
          "name": "stdout",
          "text": [
            "Add of existing embedding ID: ef994f45-a1ef-4f53-85d0-af55a05aaefe\n"
          ]
        },
        {
          "output_type": "stream",
          "name": "stderr",
          "text": [
            "WARNING:chromadb.segment.impl.vector.local_hnsw:Add of existing embedding ID: 7a1de82c-5a25-449a-93ce-66f5fee4db3b\n"
          ]
        },
        {
          "output_type": "stream",
          "name": "stdout",
          "text": [
            "Add of existing embedding ID: 7a1de82c-5a25-449a-93ce-66f5fee4db3b\n"
          ]
        },
        {
          "output_type": "stream",
          "name": "stderr",
          "text": [
            "WARNING:chromadb.segment.impl.vector.local_hnsw:Add of existing embedding ID: c0fca52c-800e-4796-a447-6367ae25027f\n"
          ]
        },
        {
          "output_type": "stream",
          "name": "stdout",
          "text": [
            "Add of existing embedding ID: c0fca52c-800e-4796-a447-6367ae25027f\n"
          ]
        },
        {
          "output_type": "stream",
          "name": "stderr",
          "text": [
            "WARNING:chromadb.segment.impl.vector.local_hnsw:Add of existing embedding ID: 6fe85332-7fa0-4d89-af7f-5ac9efd8381e\n"
          ]
        },
        {
          "output_type": "stream",
          "name": "stdout",
          "text": [
            "Add of existing embedding ID: 6fe85332-7fa0-4d89-af7f-5ac9efd8381e\n"
          ]
        },
        {
          "output_type": "stream",
          "name": "stderr",
          "text": [
            "WARNING:chromadb.segment.impl.vector.local_hnsw:Add of existing embedding ID: f30b6196-0500-40b9-9132-1d2d2920b2a0\n"
          ]
        },
        {
          "output_type": "stream",
          "name": "stdout",
          "text": [
            "Add of existing embedding ID: f30b6196-0500-40b9-9132-1d2d2920b2a0\n"
          ]
        },
        {
          "output_type": "stream",
          "name": "stderr",
          "text": [
            "WARNING:chromadb.segment.impl.vector.local_hnsw:Add of existing embedding ID: 8128d0b7-aeab-4b6b-b32a-eb0ab035af29\n"
          ]
        },
        {
          "output_type": "stream",
          "name": "stdout",
          "text": [
            "Add of existing embedding ID: 8128d0b7-aeab-4b6b-b32a-eb0ab035af29\n"
          ]
        },
        {
          "output_type": "stream",
          "name": "stderr",
          "text": [
            "WARNING:chromadb.segment.impl.vector.local_hnsw:Add of existing embedding ID: c27178db-4f37-48d0-bb42-25ec5e61e0fc\n"
          ]
        },
        {
          "output_type": "stream",
          "name": "stdout",
          "text": [
            "Add of existing embedding ID: c27178db-4f37-48d0-bb42-25ec5e61e0fc\n"
          ]
        },
        {
          "output_type": "stream",
          "name": "stderr",
          "text": [
            "WARNING:chromadb.segment.impl.vector.local_hnsw:Add of existing embedding ID: ba9debfb-fe43-4c93-8593-0a485a6f5f74\n"
          ]
        },
        {
          "output_type": "stream",
          "name": "stdout",
          "text": [
            "Add of existing embedding ID: ba9debfb-fe43-4c93-8593-0a485a6f5f74\n"
          ]
        },
        {
          "output_type": "stream",
          "name": "stderr",
          "text": [
            "WARNING:chromadb.segment.impl.vector.local_hnsw:Add of existing embedding ID: 4a03653c-4597-4796-a237-764230ca7db3\n"
          ]
        },
        {
          "output_type": "stream",
          "name": "stdout",
          "text": [
            "Add of existing embedding ID: 4a03653c-4597-4796-a237-764230ca7db3\n"
          ]
        },
        {
          "output_type": "stream",
          "name": "stderr",
          "text": [
            "WARNING:chromadb.segment.impl.vector.local_hnsw:Add of existing embedding ID: 6ec8e5c7-104f-44b0-ba94-62b8a86f4e5d\n"
          ]
        },
        {
          "output_type": "stream",
          "name": "stdout",
          "text": [
            "Add of existing embedding ID: 6ec8e5c7-104f-44b0-ba94-62b8a86f4e5d\n"
          ]
        },
        {
          "output_type": "stream",
          "name": "stderr",
          "text": [
            "WARNING:chromadb.segment.impl.vector.local_hnsw:Add of existing embedding ID: b4c2f9f0-f636-4759-b292-a6d9e8197c5d\n"
          ]
        },
        {
          "output_type": "stream",
          "name": "stdout",
          "text": [
            "Add of existing embedding ID: b4c2f9f0-f636-4759-b292-a6d9e8197c5d\n"
          ]
        },
        {
          "output_type": "stream",
          "name": "stderr",
          "text": [
            "WARNING:chromadb.segment.impl.vector.local_hnsw:Add of existing embedding ID: 3477ecaf-c86b-4de7-8a6d-2a520730e7ce\n"
          ]
        },
        {
          "output_type": "stream",
          "name": "stdout",
          "text": [
            "Add of existing embedding ID: 3477ecaf-c86b-4de7-8a6d-2a520730e7ce\n"
          ]
        },
        {
          "output_type": "stream",
          "name": "stderr",
          "text": [
            "WARNING:chromadb.segment.impl.vector.local_hnsw:Add of existing embedding ID: 82e444ea-65b8-49a4-92ef-673d1d0487e8\n"
          ]
        },
        {
          "output_type": "stream",
          "name": "stdout",
          "text": [
            "Add of existing embedding ID: 82e444ea-65b8-49a4-92ef-673d1d0487e8\n"
          ]
        },
        {
          "output_type": "stream",
          "name": "stderr",
          "text": [
            "WARNING:chromadb.segment.impl.vector.local_hnsw:Add of existing embedding ID: aa7b6f08-b0c8-4c01-96e4-4f26aa1bf803\n"
          ]
        },
        {
          "output_type": "stream",
          "name": "stdout",
          "text": [
            "Add of existing embedding ID: aa7b6f08-b0c8-4c01-96e4-4f26aa1bf803\n"
          ]
        }
      ],
      "source": [
        "from llama_index.core import SimpleDirectoryReader\n",
        "from llama_index.core.ingestion import IngestionPipeline\n",
        "from llama_index.core.node_parser import TokenTextSplitter\n",
        "from llama_index.core.extractors import TitleExtractor\n",
        "\n",
        "pipeline = IngestionPipeline(transformations=[TokenTextSplitter()])\n",
        "\n",
        "for movie, wiki_doc in zip(movie_list, wiki_docs):\n",
        "    nodes = pipeline.run(documents=wiki_docs)\n",
        "    for node in nodes:\n",
        "        node.metadata = {\"title\" : movie}\n",
        "    index.insert_nodes(nodes)"
      ]
    },
    {
      "cell_type": "markdown",
      "source": [
        "####❓ Question #1:\n",
        "\n",
        "What `metadata` fields will the nodes in our index have?\n",
        "\n",
        "Please write the code to find this information.\n",
        "\n",
        "**Answer:** Our nodes will have node_content, node_type, doc_id, document_id, ref_doc_id, and title metadata fields."
      ],
      "metadata": {
        "id": "biVzC-I4UAmB"
      }
    },
    {
      "cell_type": "code",
      "source": [
        "chroma_collection.get(limit=1)['metadatas']"
      ],
      "metadata": {
        "id": "mt1lhxEnUKxO",
        "colab": {
          "base_uri": "https://localhost:8080/"
        },
        "outputId": "0a7d3b62-3edb-4462-8ee6-5a71d7766ce4"
      },
      "execution_count": 110,
      "outputs": [
        {
          "output_type": "execute_result",
          "data": {
            "text/plain": [
              "[{'_node_content': '{\"id_\": \"008bd3dc-663c-4821-8643-e5f039954dee\", \"embedding\": null, \"metadata\": {\"title\": \"Dune (2021 film)\"}, \"excluded_embed_metadata_keys\": [], \"excluded_llm_metadata_keys\": [], \"relationships\": {\"1\": {\"node_id\": \"52659577\", \"node_type\": \"4\", \"metadata\": {}, \"hash\": \"9918dab0f0e9f5ed789fa4c2ae7f4d293f50c3c1f2f521d9cd939086a832700e\", \"class_name\": \"RelatedNodeInfo\"}, \"2\": {\"node_id\": \"52fb227d-453f-43f1-87d7-6bac3128151c\", \"node_type\": \"1\", \"metadata\": {}, \"hash\": \"123e2e8b899f657efeed52fddb6a139953bcb2543547f3cb611ab12bbfbe077e\", \"class_name\": \"RelatedNodeInfo\"}, \"3\": {\"node_id\": \"ef994f45-a1ef-4f53-85d0-af55a05aaefe\", \"node_type\": \"1\", \"metadata\": {}, \"hash\": \"306533cedb97c4ba714c4e1c5125ad174e38e997a177e24215d3261bdd55ee4f\", \"class_name\": \"RelatedNodeInfo\"}}, \"text\": \"\", \"start_char_idx\": 27068, \"end_char_idx\": 31773, \"text_template\": \"{metadata_str}\\\\n\\\\n{content}\", \"metadata_template\": \"{key}: {value}\", \"metadata_seperator\": \"\\\\n\", \"class_name\": \"TextNode\"}',\n",
              "  '_node_type': 'TextNode',\n",
              "  'doc_id': '52659577',\n",
              "  'document_id': '52659577',\n",
              "  'ref_doc_id': '52659577',\n",
              "  'title': 'Dune (2021 film)'}]"
            ]
          },
          "metadata": {},
          "execution_count": 110
        }
      ]
    },
    {
      "cell_type": "markdown",
      "source": [
        "### Persisting and Loading Stored Index with Weights and Biases\n",
        "\n",
        "Now we can utilize a powerful feature of Weights and Biases - index and artifact versioning!\n",
        "\n",
        "We can persist our index to WandB to be used and loaded later!"
      ],
      "metadata": {
        "id": "Sfbon1BwSLFS"
      }
    },
    {
      "cell_type": "code",
      "source": [
        "wandb_callback.persist_index(index, index_name=\"dune-index-chromadb\")"
      ],
      "metadata": {
        "colab": {
          "base_uri": "https://localhost:8080/"
        },
        "id": "PHJd00J3G48_",
        "outputId": "ea65b74d-17a9-44b3-bbb4-a066744a5efe"
      },
      "execution_count": 17,
      "outputs": [
        {
          "output_type": "stream",
          "name": "stderr",
          "text": [
            "\u001b[34m\u001b[1mwandb\u001b[0m: Adding directory to artifact (/content/wandb/run-20240308_004400-4ncrn33t/files/storage)... Done. 0.0s\n"
          ]
        }
      ]
    },
    {
      "cell_type": "markdown",
      "source": [
        "Now we can load our index from WandB, which is a truly powerful tool!"
      ],
      "metadata": {
        "id": "jvpHLt8UShKa"
      }
    },
    {
      "cell_type": "code",
      "source": [
        "from llama_index.core import load_index_from_storage\n",
        "\n",
        "storage_context = wandb_callback.load_storage_context(\n",
        "    artifact_url=\"aelydens/aie1-llama-index-demo/dune-index-chromadb:v0\"\n",
        ")"
      ],
      "metadata": {
        "colab": {
          "base_uri": "https://localhost:8080/"
        },
        "id": "FDZLmqTDHDrZ",
        "outputId": "62a34a31-c4b7-4fad-fd18-3b48ae1a62c8"
      },
      "execution_count": 19,
      "outputs": [
        {
          "output_type": "stream",
          "name": "stderr",
          "text": [
            "\u001b[34m\u001b[1mwandb\u001b[0m:   4 of 4 files downloaded.  \n"
          ]
        }
      ]
    },
    {
      "cell_type": "markdown",
      "source": [
        "####❓ Question #2:\n",
        "\n",
        "Provide a screenshot of your index version history as shown in WandB.\n",
        "\n",
        "![Screenshot 2024-03-07 at 7.49.26 PM.png](data:image/png;base64,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)"
      ],
      "metadata": {
        "id": "G0pwSiOxUYCE"
      }
    },
    {
      "cell_type": "markdown",
      "metadata": {
        "id": "YUa5sHMsSV__"
      },
      "source": [
        "### Auto Retriever Functional Tool\n",
        "\n",
        "This tool will leverage OpenAI's functional endpoint to select the correct metadata filter and query the filtered index - only looking at nodes with the desired metadata.\n",
        "\n",
        "A simplified diagram: ![image](https://i.imgur.com/AICDPav.png)"
      ]
    },
    {
      "cell_type": "markdown",
      "metadata": {
        "id": "Z2HQHY3pSV__"
      },
      "source": [
        "First, we need to create our `VectoreStoreInfo` object which will hold all the relevant metadata we need for each component (in this case title metadata).\n",
        "\n",
        "Notice that you need to include it in a text list."
      ]
    },
    {
      "cell_type": "code",
      "execution_count": 20,
      "metadata": {
        "id": "KoAYxbdsSV__"
      },
      "outputs": [],
      "source": [
        "from llama_index.core.tools import FunctionTool\n",
        "from llama_index.core.vector_stores.types import (\n",
        "    VectorStoreInfo,\n",
        "    MetadataInfo,\n",
        "    ExactMatchFilter,\n",
        "    MetadataFilters,\n",
        ")\n",
        "from llama_index.core.retrievers import VectorIndexRetriever\n",
        "from llama_index.core.query_engine import RetrieverQueryEngine\n",
        "\n",
        "from typing import List, Tuple, Any\n",
        "from pydantic import BaseModel, Field\n",
        "\n",
        "top_k = 3\n",
        "\n",
        "vector_store_info = VectorStoreInfo(\n",
        "    content_info=\"semantic information about movies\",\n",
        "    metadata_info=[MetadataInfo(\n",
        "        name=\"title\",\n",
        "        type=\"str\",\n",
        "        description=\"title of the movie, one of ['Dune (2021 film)', 'Dune: Part 2']\",\n",
        "    )]\n",
        ")"
      ]
    },
    {
      "cell_type": "markdown",
      "metadata": {
        "id": "NEjK7jcsSV__"
      },
      "source": [
        "Now we'll create our base PyDantic object that we can use to ensure compatability with our application layer. This verifies that the response from the OpenAI endpoint conforms to this schema."
      ]
    },
    {
      "cell_type": "code",
      "execution_count": 21,
      "metadata": {
        "id": "yixkwF8zSV__"
      },
      "outputs": [],
      "source": [
        "class AutoRetrieveModel(BaseModel):\n",
        "    query: str = Field(..., description=\"natural language query string\")\n",
        "    filter_key_list: List[str] = Field(\n",
        "        ..., description=\"List of metadata filter field names\"\n",
        "    )\n",
        "    filter_value_list: List[str] = Field(\n",
        "        ...,\n",
        "        description=(\n",
        "            \"List of metadata filter field values (corresponding to names specified in filter_key_list)\"\n",
        "        )\n",
        "    )"
      ]
    },
    {
      "cell_type": "markdown",
      "metadata": {
        "id": "Ep6ORS3FSV__"
      },
      "source": [
        "Now we can build our function that we will use to query the functional endpoint."
      ]
    },
    {
      "cell_type": "code",
      "execution_count": 22,
      "metadata": {
        "id": "y8sPThxlSV__"
      },
      "outputs": [],
      "source": [
        "def auto_retrieve_fn(\n",
        "    query: str, filter_key_list: List[str], filter_value_list: List[str]\n",
        "):\n",
        "    \"\"\"Auto retrieval function.\n",
        "\n",
        "    Performs auto-retrieval from a vector database, and then applies a set of filters.\n",
        "\n",
        "    \"\"\"\n",
        "    query = query or \"Query\"\n",
        "\n",
        "    exact_match_filters = [\n",
        "        ExactMatchFilter(key=k, value=v)\n",
        "        for k, v in zip(filter_key_list, filter_value_list)\n",
        "    ]\n",
        "    retriever = VectorIndexRetriever(\n",
        "        index, filters=MetadataFilters(filters=exact_match_filters), top_k=top_k\n",
        "    )\n",
        "    query_engine = RetrieverQueryEngine.from_args(retriever)\n",
        "\n",
        "    response = query_engine.query(query)\n",
        "    return str(response)"
      ]
    },
    {
      "cell_type": "markdown",
      "metadata": {
        "id": "Yt4BV6oISV__"
      },
      "source": [
        "Now we need to wrap our system in a tool in order to integrate it into the larger application.\n",
        "\n",
        "Source Code Here:\n",
        "- [`FunctionTool`](https://github.com/jerryjliu/llama_index/blob/d24767b0812ac56104497d8f59095eccbe9f2b08/llama_index/tools/function_tool.py#L21)"
      ]
    },
    {
      "cell_type": "code",
      "execution_count": 23,
      "metadata": {
        "id": "U4lS1NqeSV__"
      },
      "outputs": [],
      "source": [
        "description = f\"\"\"\\\n",
        "Use this tool to look up semantic information about films.\n",
        "The vector database schema is given below:\n",
        "{vector_store_info.json()}\n",
        "\"\"\"\n",
        "\n",
        "auto_retrieve_tool = FunctionTool.from_defaults(\n",
        "    fn=auto_retrieve_fn,\n",
        "    name=\"semantic-film-info\",\n",
        "    description=description,\n",
        "    fn_schema=AutoRetrieveModel\n",
        ")"
      ]
    },
    {
      "cell_type": "markdown",
      "source": [
        "####❓ Question #3:\n",
        "\n",
        "Is the text in the description of our `FunctionTool` important or not? Please explain your answer.\n",
        "\n",
        "**Answer:** Yes, the description is important because it will help the agent decide when to use the tool."
      ],
      "metadata": {
        "id": "9YkXmlexUnP_"
      }
    },
    {
      "cell_type": "markdown",
      "metadata": {
        "id": "ZblimmXVSV__"
      },
      "source": [
        "All that's left to do is attach the tool to an OpenAIAgent and let it rip!\n",
        "\n",
        "Source Code Here:\n",
        "- [`OpenAIAgent`](https://github.com/jerryjliu/llama_index/blob/d24767b0812ac56104497d8f59095eccbe9f2b08/llama_index/agent/openai_agent.py#L361)"
      ]
    },
    {
      "cell_type": "code",
      "execution_count": 24,
      "metadata": {
        "id": "W2hafCTxSV__"
      },
      "outputs": [],
      "source": [
        "from llama_index.agent.openai import OpenAIAgent\n",
        "\n",
        "agent = OpenAIAgent.from_tools(\n",
        "    tools=[auto_retrieve_tool],\n",
        "    verbose=True,\n",
        ")"
      ]
    },
    {
      "cell_type": "code",
      "execution_count": 25,
      "metadata": {
        "id": "DBJWDBK5SV__",
        "outputId": "48031845-16d3-4059-aa90-29c137719538",
        "colab": {
          "base_uri": "https://localhost:8080/"
        }
      },
      "outputs": [
        {
          "output_type": "stream",
          "name": "stdout",
          "text": [
            "Added user message to memory: Who starred in the 2021 film?\n",
            "=== Calling Function ===\n",
            "Calling function: semantic-film-info with args: {\"query\":\"cast of Dune (2021 film)\",\"filter_key_list\":[\"title\"],\"filter_value_list\":[\"Dune (2021 film)\"]}\n",
            "Got output: The cast of \"Dune (2021 film)\" includes Timothée Chalamet as Paul \"Muad'Dib\" Atreides, Zendaya as Chani, Rebecca Ferguson as Lady Jessica, Josh Brolin as Gurney Halleck, Austin Butler as Feyd-Rautha Harkonnen, Florence Pugh as Princess Irulan, Dave Bautista as Glossu Rabban Harkonnen, Christopher Walken as Shaddam IV, Léa Seydoux as Lady Margot Fenring, Souheila Yacoub as Shishakli, Stellan Skarsgård as Baron Vladimir Harkonnen, and Charlotte Rampling as Gaius Helen Mohiam, among others.\n",
            "========================\n",
            "\n"
          ]
        },
        {
          "output_type": "stream",
          "name": "stderr",
          "text": [
            "\u001b[34m\u001b[1mwandb\u001b[0m: Logged trace tree to W&B.\n"
          ]
        },
        {
          "output_type": "stream",
          "name": "stdout",
          "text": [
            "The cast of the 2021 film \"Dune\" includes Timothée Chalamet, Zendaya, Rebecca Ferguson, Josh Brolin, Austin Butler, Florence Pugh, Dave Bautista, Christopher Walken, Léa Seydoux, Souheila Yacoub, Stellan Skarsgård, and Charlotte Rampling, among others.\n"
          ]
        }
      ],
      "source": [
        "response = agent.chat(\"Who starred in the 2021 film?\")\n",
        "print(str(response))"
      ]
    },
    {
      "cell_type": "markdown",
      "source": [
        "# 🤝 Breakout Room #2"
      ],
      "metadata": {
        "id": "kbhAT68RSvnT"
      }
    },
    {
      "cell_type": "markdown",
      "metadata": {
        "id": "yJcJL7VXSV__"
      },
      "source": [
        "## Task 1: Quantitative RAG Pipeline with NL2SQL Tooling\n",
        "\n",
        "We'll walk through the steps of creating a natural language to SQL system in the following section.\n",
        "\n",
        "> NOTICE: This does not have parsing on the inputs or intermediary calls to ensure that users are using safe SQL queries. Use this with caution in a production environment without adding specific guardrails from either side of the application."
      ]
    },
    {
      "cell_type": "markdown",
      "metadata": {
        "id": "SsVcM0-4SV__"
      },
      "source": [
        "The next few steps should be largely straightforward, we'll want to:\n",
        "\n",
        "1. Read in our `.csv` files into `pd.DataFrame` objects\n",
        "2. Create an in-memory `sqlite` powered `sqlalchemy` engine\n",
        "3. Cast our `pd.DataFrame` objects to the SQL engine\n",
        "4. Create an `SQLDatabase` object through LlamaIndex\n",
        "5. Use that to create a `QueryEngineTool` that we can interact with through the `NLSQLTableQueryEngine`!\n",
        "\n",
        "If you get stuck, please consult the documentation."
      ]
    },
    {
      "cell_type": "code",
      "source": [
        "!wget https://raw.githubusercontent.com/AI-Maker-Space/DataRepository/main/dune1.csv"
      ],
      "metadata": {
        "id": "WwWOygTqlNBh",
        "colab": {
          "base_uri": "https://localhost:8080/"
        },
        "outputId": "c071a0bf-4941-41df-9cf3-27374ed21acd"
      },
      "execution_count": 26,
      "outputs": [
        {
          "output_type": "stream",
          "name": "stdout",
          "text": [
            "--2024-03-08 00:59:17--  https://raw.githubusercontent.com/AI-Maker-Space/DataRepository/main/dune1.csv\n",
            "Resolving raw.githubusercontent.com (raw.githubusercontent.com)... 185.199.108.133, 185.199.109.133, 185.199.110.133, ...\n",
            "Connecting to raw.githubusercontent.com (raw.githubusercontent.com)|185.199.108.133|:443... connected.\n",
            "HTTP request sent, awaiting response... 200 OK\n",
            "Length: 133391 (130K) [text/plain]\n",
            "Saving to: ‘dune1.csv’\n",
            "\n",
            "\rdune1.csv             0%[                    ]       0  --.-KB/s               \rdune1.csv           100%[===================>] 130.26K  --.-KB/s    in 0.02s   \n",
            "\n",
            "2024-03-08 00:59:17 (5.74 MB/s) - ‘dune1.csv’ saved [133391/133391]\n",
            "\n"
          ]
        }
      ]
    },
    {
      "cell_type": "code",
      "source": [
        "!wget https://raw.githubusercontent.com/AI-Maker-Space/DataRepository/main/dune2.csv"
      ],
      "metadata": {
        "id": "TD_9LPL9lTlG",
        "colab": {
          "base_uri": "https://localhost:8080/"
        },
        "outputId": "abd671fb-76b1-4186-960d-a4a659000cb1"
      },
      "execution_count": 27,
      "outputs": [
        {
          "output_type": "stream",
          "name": "stdout",
          "text": [
            "--2024-03-08 00:59:23--  https://raw.githubusercontent.com/AI-Maker-Space/DataRepository/main/dune2.csv\n",
            "Resolving raw.githubusercontent.com (raw.githubusercontent.com)... 185.199.108.133, 185.199.110.133, 185.199.111.133, ...\n",
            "Connecting to raw.githubusercontent.com (raw.githubusercontent.com)|185.199.108.133|:443... connected.\n",
            "HTTP request sent, awaiting response... 200 OK\n",
            "Length: 111843 (109K) [text/plain]\n",
            "Saving to: ‘dune2.csv’\n",
            "\n",
            "\rdune2.csv             0%[                    ]       0  --.-KB/s               \rdune2.csv           100%[===================>] 109.22K  --.-KB/s    in 0.02s   \n",
            "\n",
            "2024-03-08 00:59:23 (4.92 MB/s) - ‘dune2.csv’ saved [111843/111843]\n",
            "\n"
          ]
        }
      ]
    },
    {
      "cell_type": "markdown",
      "metadata": {
        "id": "8PUg-ZuTSWAC"
      },
      "source": [
        "#### Read `.csv` Into Pandas"
      ]
    },
    {
      "cell_type": "code",
      "execution_count": 28,
      "metadata": {
        "id": "52Hd8PM4SWAC"
      },
      "outputs": [],
      "source": [
        "import pandas as pd\n",
        "\n",
        "dune1_df = pd.read_csv(\"./dune1.csv\")\n",
        "dune2_df = pd.read_csv(\"./dune2.csv\")"
      ]
    },
    {
      "cell_type": "markdown",
      "metadata": {
        "id": "fPTNyqmpSWAC"
      },
      "source": [
        "#### Create SQLAlchemy engine with SQLite"
      ]
    },
    {
      "cell_type": "code",
      "execution_count": 29,
      "metadata": {
        "id": "4lfuPKYBSWAC"
      },
      "outputs": [],
      "source": [
        "from sqlalchemy import create_engine\n",
        "\n",
        "engine = create_engine(\"sqlite+pysqlite:///:memory:\")"
      ]
    },
    {
      "cell_type": "markdown",
      "metadata": {
        "id": "iJiYiSuHSWAC"
      },
      "source": [
        "#### Convert `pd.DataFrame` to SQL tables"
      ]
    },
    {
      "cell_type": "code",
      "execution_count": 30,
      "metadata": {
        "id": "W-96asUHSWAC",
        "outputId": "c6201d63-5977-433f-9636-1f7646a9d68c",
        "colab": {
          "base_uri": "https://localhost:8080/"
        }
      },
      "outputs": [
        {
          "output_type": "execute_result",
          "data": {
            "text/plain": [
              "274"
            ]
          },
          "metadata": {},
          "execution_count": 30
        }
      ],
      "source": [
        "dune1_df.to_sql(\n",
        "    \"Dune (2021 film)\",\n",
        "    engine\n",
        ")"
      ]
    },
    {
      "cell_type": "code",
      "execution_count": 31,
      "metadata": {
        "id": "ZwOi1RE1SWAC",
        "outputId": "480d0675-f8e7-4a3c-a925-a1a0ec5a9f31",
        "colab": {
          "base_uri": "https://localhost:8080/"
        }
      },
      "outputs": [
        {
          "output_type": "execute_result",
          "data": {
            "text/plain": [
              "175"
            ]
          },
          "metadata": {},
          "execution_count": 31
        }
      ],
      "source": [
        "dune2_df.to_sql(\n",
        "    \"Dune: Part 2\",\n",
        "    engine\n",
        ")"
      ]
    },
    {
      "cell_type": "markdown",
      "metadata": {
        "id": "pibA9qT7SWAC"
      },
      "source": [
        "#### Construct a `SQLDatabase` index\n",
        "\n",
        "Source Code Here:\n",
        "- [`SQLDatabase`](https://github.com/jerryjliu/llama_index/blob/d24767b0812ac56104497d8f59095eccbe9f2b08/llama_index/langchain_helpers/sql_wrapper.py#L9)"
      ]
    },
    {
      "cell_type": "code",
      "execution_count": 32,
      "metadata": {
        "id": "yeDYpR1LSWAD"
      },
      "outputs": [],
      "source": [
        "from llama_index.core import SQLDatabase\n",
        "\n",
        "sql_database = SQLDatabase(\n",
        "    engine=engine,\n",
        "    include_tables=[\"Dune (2021 film)\", \"Dune: Part 2\"]\n",
        ")"
      ]
    },
    {
      "cell_type": "markdown",
      "metadata": {
        "id": "-7VfZBenSWAD"
      },
      "source": [
        "#### Create the NLSQLTableQueryEngine interface for all added SQL tables\n",
        "\n",
        "Source Code Here:\n",
        "- [`NLSQLTableQueryEngine`](https://github.com/jerryjliu/llama_index/blob/d24767b0812ac56104497d8f59095eccbe9f2b08/llama_index/indices/struct_store/sql_query.py#L75C1-L75C1)"
      ]
    },
    {
      "cell_type": "code",
      "execution_count": 33,
      "metadata": {
        "id": "zQWSdMtrSWAD"
      },
      "outputs": [],
      "source": [
        "from llama_index.core.indices.struct_store.sql_query import NLSQLTableQueryEngine\n",
        "\n",
        "sql_query_engine = NLSQLTableQueryEngine(\n",
        "    sql_database=sql_database,\n",
        "    tables=[\"Dune (2021 film)\", \"Dune: Part 2\"],\n",
        ")"
      ]
    },
    {
      "cell_type": "markdown",
      "metadata": {
        "id": "yu8WfwuTSWAD"
      },
      "source": [
        "#### Wrap It All Up in a `QueryEngineTool`\n",
        "\n",
        "You'll want to ensure you have a descriptive...description.\n",
        "\n",
        "An example is provided here:\n",
        "\n",
        "```\n",
        "Useful for translating a natural language query into a SQL query over a table containing:\n",
        "John Wick 1, containing information related to reviews of the first John Wick movie, called John Wick\n",
        "John Wick 2, containing information related to reviews of the second John Wick movie, called John Wick: Chapter 2\n",
        "John Wick 3, containing information related to reviews of the third John Wick movie, called John Wick: Chatper 3 - Parabellum\n",
        "John Wick 4, containing information related to reviews of the fourth John Wick movie, called John Wick: Chatper 4\n",
        "```\n",
        "\n",
        "Sorce Code Here:\n",
        "\n",
        "- [`QueryEngineTool`](https://github.com/jerryjliu/llama_index/blob/d24767b0812ac56104497d8f59095eccbe9f2b08/llama_index/tools/query_engine.py#L13)"
      ]
    },
    {
      "cell_type": "markdown",
      "source": [
        "####🏗️ Activity #1:\n",
        "\n",
        "Please write a Natural Language Description for the tables that we are using today."
      ],
      "metadata": {
        "id": "yDB2m2dnU54L"
      }
    },
    {
      "cell_type": "code",
      "source": [
        "DESCRIPTION = \"\"\"\\\n",
        "You are a translator that translates a natural language query into a SQL query over tables containing:\n",
        "Dune (2021 film), containing information related to reviews of the first Dune movie, called Dune (2021 film)\n",
        "Dune: Part 2, containing information related to reviews of the second Dune movie, called Dune: Part 2\n",
        "\"\"\""
      ],
      "metadata": {
        "id": "4n567cXVVCtX"
      },
      "execution_count": 72,
      "outputs": []
    },
    {
      "cell_type": "code",
      "execution_count": 73,
      "metadata": {
        "id": "y-mmcBbLSWAD"
      },
      "outputs": [],
      "source": [
        "from llama_index.core.tools.query_engine import QueryEngineTool\n",
        "\n",
        "sql_tool = QueryEngineTool.from_defaults(\n",
        "    query_engine=sql_query_engine,\n",
        "    name=\"sql-query\",\n",
        "    description=DESCRIPTION,\n",
        ")"
      ]
    },
    {
      "cell_type": "code",
      "execution_count": 74,
      "metadata": {
        "id": "feOrlq4XSWAD"
      },
      "outputs": [],
      "source": [
        "agent = OpenAIAgent.from_tools(\n",
        "    tools=[sql_tool],\n",
        "    verbose=True\n",
        ")"
      ]
    },
    {
      "cell_type": "code",
      "execution_count": 75,
      "metadata": {
        "id": "iT4G6stBSWAD",
        "outputId": "365cb168-0b35-4449-b323-be3d82cc4d9a",
        "colab": {
          "base_uri": "https://localhost:8080/"
        }
      },
      "outputs": [
        {
          "output_type": "stream",
          "name": "stdout",
          "text": [
            "Added user message to memory: What is the average rating of the 2nd Dune movie?\n",
            "=== Calling Function ===\n",
            "Calling function: sql-query with args: {\"input\":\"average rating of Dune: Part 2\"}\n",
            "Got output: The average rating of Dune: Part 2 is approximately 8.71 out of 10.\n",
            "========================\n",
            "\n"
          ]
        },
        {
          "output_type": "stream",
          "name": "stderr",
          "text": [
            "\u001b[34m\u001b[1mwandb\u001b[0m: Logged trace tree to W&B.\n"
          ]
        }
      ],
      "source": [
        "response = agent.chat(\"What is the average rating of the 2nd Dune movie?\")"
      ]
    },
    {
      "cell_type": "code",
      "execution_count": 76,
      "metadata": {
        "id": "NhsoxOpkSWAD",
        "outputId": "d91d2727-b706-43ae-e99a-25bd4d52faad",
        "colab": {
          "base_uri": "https://localhost:8080/"
        }
      },
      "outputs": [
        {
          "output_type": "stream",
          "name": "stdout",
          "text": [
            "The average rating of the 2nd Dune movie, Dune: Part 2, is approximately 8.71 out of 10.\n"
          ]
        }
      ],
      "source": [
        "print(str(response))"
      ]
    },
    {
      "cell_type": "markdown",
      "metadata": {
        "id": "-2LOixbcSWAD"
      },
      "source": [
        "### Task 2: Combined RAG Pipeline\n",
        "\n",
        "Now, we can simply add our tools into the `OpenAIAgent`, and off we go!"
      ]
    },
    {
      "cell_type": "code",
      "execution_count": 77,
      "metadata": {
        "id": "uxFHM2l2SWAD"
      },
      "outputs": [],
      "source": [
        "dune_agent = OpenAIAgent.from_tools(\n",
        "    tools=[auto_retrieve_tool, sql_tool],\n",
        "    verbose=True\n",
        ")"
      ]
    },
    {
      "cell_type": "code",
      "execution_count": 81,
      "metadata": {
        "id": "mYVHuBf9SWAD",
        "outputId": "54eca2c8-7d0f-4cfb-c590-494ee3ada8d2",
        "colab": {
          "base_uri": "https://localhost:8080/"
        }
      },
      "outputs": [
        {
          "output_type": "stream",
          "name": "stdout",
          "text": [
            "Added user message to memory: What is the lowest rating of the 1st film?\n",
            "=== Calling Function ===\n",
            "Calling function: semantic-film-info with args: {\"query\":\"lowest rating of the 1st film\",\"filter_key_list\":[\"title\"],\"filter_value_list\":[\"Dune (2021 film)\"]}\n",
            "Got output: The lowest rating of the 1st film was 74 out of 100 on Metacritic, based on 68 critics' reviews.\n",
            "========================\n",
            "\n"
          ]
        },
        {
          "output_type": "stream",
          "name": "stderr",
          "text": [
            "\u001b[34m\u001b[1mwandb\u001b[0m: Logged trace tree to W&B.\n"
          ]
        }
      ],
      "source": [
        "response = dune_agent.chat(\"What is the lowest rating of the 1st film?\")"
      ]
    },
    {
      "cell_type": "code",
      "execution_count": 82,
      "metadata": {
        "id": "k0w0VbomSWAD",
        "outputId": "5e1c61aa-5519-48dc-d990-455a5ec698cb",
        "colab": {
          "base_uri": "https://localhost:8080/"
        }
      },
      "outputs": [
        {
          "output_type": "stream",
          "name": "stdout",
          "text": [
            "The lowest rating of the 1st film, \"Dune (2021 film),\" was 74 out of 100 on Metacritic, based on 68 critics' reviews.\n"
          ]
        }
      ],
      "source": [
        "print(str(response))"
      ]
    },
    {
      "cell_type": "code",
      "execution_count": 83,
      "metadata": {
        "id": "BJvN-vtJSWAD",
        "outputId": "b93586b6-a415-40e6-fd2a-e62328b3f7fd",
        "colab": {
          "base_uri": "https://localhost:8080/"
        }
      },
      "outputs": [
        {
          "output_type": "stream",
          "name": "stdout",
          "text": [
            "Added user message to memory: What planet does the 1st Dune movie take place on?\n",
            "=== Calling Function ===\n",
            "Calling function: semantic-film-info with args: {\"query\":\"planet where the 1st Dune movie takes place\",\"filter_key_list\":[\"title\"],\"filter_value_list\":[\"Dune (2021 film)\"]}\n",
            "Got output: Arrakis\n",
            "========================\n",
            "\n"
          ]
        },
        {
          "output_type": "stream",
          "name": "stderr",
          "text": [
            "\u001b[34m\u001b[1mwandb\u001b[0m: Logged trace tree to W&B.\n"
          ]
        }
      ],
      "source": [
        "response = dune_agent.chat(\"What planet does the 1st Dune movie take place on?\")"
      ]
    },
    {
      "cell_type": "code",
      "execution_count": 85,
      "metadata": {
        "id": "F74wGv6NSWAD",
        "outputId": "6c2dbdab-5933-4a22-8531-621bbb544f77",
        "colab": {
          "base_uri": "https://localhost:8080/"
        }
      },
      "outputs": [
        {
          "output_type": "stream",
          "name": "stdout",
          "text": [
            "The 1st Dune movie, \"Dune (2021 film),\" takes place on the planet Arrakis.\n"
          ]
        }
      ],
      "source": [
        "print(str(response))"
      ]
    },
    {
      "cell_type": "code",
      "source": [
        "response = dune_agent.chat(\"Calculate the average review of each movie - and then discuss how the average review changed over time.\")"
      ],
      "metadata": {
        "colab": {
          "base_uri": "https://localhost:8080/"
        },
        "id": "Lvat4hmkvn3N",
        "outputId": "ba612131-dbec-449a-f35b-976d064ee634"
      },
      "execution_count": 87,
      "outputs": [
        {
          "output_type": "stream",
          "name": "stdout",
          "text": [
            "Added user message to memory: Calculate the average review of each movie - and then discuss how the average review changed over time.\n",
            "=== Calling Function ===\n",
            "Calling function: sql-query with args: {\"input\": \"Calculate the average review of Dune (2021 film)\"}\n",
            "Got output: The average review rating for Dune (2021 film) is approximately 8.34 out of 10.\n",
            "========================\n",
            "\n",
            "=== Calling Function ===\n",
            "Calling function: sql-query with args: {\"input\": \"Calculate the average review of Dune: Part 2\"}\n",
            "Got output: The average review rating for Dune: Part 2 is approximately 8.71 out of 10.\n",
            "========================\n",
            "\n"
          ]
        },
        {
          "output_type": "stream",
          "name": "stderr",
          "text": [
            "\u001b[34m\u001b[1mwandb\u001b[0m: Logged trace tree to W&B.\n"
          ]
        }
      ]
    },
    {
      "cell_type": "code",
      "source": [
        "print(str(response))"
      ],
      "metadata": {
        "colab": {
          "base_uri": "https://localhost:8080/"
        },
        "id": "BEOpeuAovtZM",
        "outputId": "5b8241e5-3618-46fc-a955-c7e4df9ad61e"
      },
      "execution_count": 88,
      "outputs": [
        {
          "output_type": "stream",
          "name": "stdout",
          "text": [
            "The average review rating for \"Dune (2021 film)\" is approximately 8.34 out of 10, and for \"Dune: Part 2\" is approximately 8.71 out of 10.\n",
            "\n",
            "Over time, the average review rating has improved from the first movie to the second. This indicates that the second movie, \"Dune: Part 2,\" received a higher average review rating compared to the first movie, \"Dune (2021 film).\" The increase in the average review rating suggests that the second movie may have been better received by audiences and critics, showing an improvement in the overall quality of the film series.\n"
          ]
        }
      ]
    },
    {
      "cell_type": "markdown",
      "source": [
        "####❓ Question #4:\n",
        "\n",
        "How can you verify which tool was used for which query?\n",
        "\n",
        "**Answer:** We can verify which tool was used by looking at the `tool_name` in `response.sources`."
      ],
      "metadata": {
        "id": "WUVzyUtKqdUf"
      }
    },
    {
      "cell_type": "code",
      "source": [
        "response.sources"
      ],
      "metadata": {
        "colab": {
          "base_uri": "https://localhost:8080/"
        },
        "id": "p_-eygAGsWLe",
        "outputId": "ca582939-8859-42e2-80ee-505104a0fb2b"
      },
      "execution_count": 89,
      "outputs": [
        {
          "output_type": "execute_result",
          "data": {
            "text/plain": [
              "[ToolOutput(content='The average review rating for Dune (2021 film) is approximately 8.34 out of 10.', tool_name='sql-query', raw_input={'input': 'Calculate the average review of Dune (2021 film)'}, raw_output=Response(response='The average review rating for Dune (2021 film) is approximately 8.34 out of 10.', source_nodes=[NodeWithScore(node=TextNode(id_='7549f447-a97f-4e8d-9ebf-b295e7828fb5', embedding=None, metadata={}, excluded_embed_metadata_keys=[], excluded_llm_metadata_keys=[], relationships={}, text='[(8.335793357933579,)]', start_char_idx=None, end_char_idx=None, text_template='{metadata_str}\\n\\n{content}', metadata_template='{key}: {value}', metadata_seperator='\\n'), score=None)], metadata={'7549f447-a97f-4e8d-9ebf-b295e7828fb5': {}, 'sql_query': 'SELECT AVG(Rating) AS Average_Review FROM \"Dune (2021 film)\"', 'result': [(8.335793357933579,)], 'col_keys': ['Average_Review']})),\n",
              " ToolOutput(content='The average review rating for Dune: Part 2 is approximately 8.71 out of 10.', tool_name='sql-query', raw_input={'input': 'Calculate the average review of Dune: Part 2'}, raw_output=Response(response='The average review rating for Dune: Part 2 is approximately 8.71 out of 10.', source_nodes=[NodeWithScore(node=TextNode(id_='a0b6569a-3676-417d-8e5e-f306f9ea21c6', embedding=None, metadata={}, excluded_embed_metadata_keys=[], excluded_llm_metadata_keys=[], relationships={}, text='[(8.706896551724139,)]', start_char_idx=None, end_char_idx=None, text_template='{metadata_str}\\n\\n{content}', metadata_template='{key}: {value}', metadata_seperator='\\n'), score=None)], metadata={'a0b6569a-3676-417d-8e5e-f306f9ea21c6': {}, 'sql_query': 'SELECT AVG(Rating) AS AverageRating FROM \"Dune: Part 2\"', 'result': [(8.706896551724139,)], 'col_keys': ['AverageRating']}))]"
            ]
          },
          "metadata": {},
          "execution_count": 89
        }
      ]
    },
    {
      "cell_type": "code",
      "source": [
        "tool_names = [output.tool_name for output in response.sources]\n",
        "tool_names"
      ],
      "metadata": {
        "colab": {
          "base_uri": "https://localhost:8080/"
        },
        "id": "zrXaRiHhoVnt",
        "outputId": "5c10aa0d-6a67-4b5c-ac57-7ec9f9a813a6"
      },
      "execution_count": 90,
      "outputs": [
        {
          "output_type": "execute_result",
          "data": {
            "text/plain": [
              "['sql-query', 'sql-query']"
            ]
          },
          "metadata": {},
          "execution_count": 90
        }
      ]
    },
    {
      "cell_type": "code",
      "execution_count": 91,
      "metadata": {
        "id": "D3ELqzOvSWAD"
      },
      "outputs": [],
      "source": [
        "wandb_callback.finish()"
      ]
    }
  ],
  "metadata": {
    "kernelspec": {
      "display_name": "Python 3",
      "language": "python",
      "name": "python3"
    },
    "language_info": {
      "codemirror_mode": {
        "name": "ipython",
        "version": 3
      },
      "file_extension": ".py",
      "mimetype": "text/x-python",
      "name": "python",
      "nbconvert_exporter": "python",
      "pygments_lexer": "ipython3",
      "version": "3.9.18"
    },
    "orig_nbformat": 4,
    "colab": {
      "provenance": [],
      "include_colab_link": true
    }
  },
  "nbformat": 4,
  "nbformat_minor": 0
}